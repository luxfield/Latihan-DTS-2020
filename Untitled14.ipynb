{
 "cells": [
  {
   "cell_type": "code",
   "execution_count": 106,
   "metadata": {},
   "outputs": [
    {
     "name": "stdout",
     "output_type": "stream",
     "text": [
      "Apple\n",
      "Avocado\n"
     ]
    }
   ],
   "source": [
    "const letter_catalog = (items,letter='A') => {\n",
    "    items.forEach((item) => {\n",
    "        if (item[0] == letter) {\n",
    "            console.log(item);\n",
    "        }\n",
    "\n",
    "    })\n",
    "}\n",
    "\n",
    "letter_catalog(['Apple','Avocado','Banana','Blackberries','Blueberries'])"
   ]
  },
  {
   "cell_type": "code",
   "execution_count": 154,
   "metadata": {},
   "outputs": [],
   "source": [
    "const counter_item = (items) => {\n",
    "    var counts = {};\n",
    "    items.forEach((x) => {\n",
    "        counts[x] = (counts[x] || 0) + 1\n",
    "    })\n",
    "    console.log(counts)\n",
    "}"
   ]
  },
  {
   "cell_type": "code",
   "execution_count": 155,
   "metadata": {},
   "outputs": [
    {
     "name": "stdout",
     "output_type": "stream",
     "text": [
      "{ Apple: \u001b[33m2\u001b[39m, Banana: \u001b[33m3\u001b[39m }\n"
     ]
    }
   ],
   "source": [
    "counter_item(['Apple','Apple','Banana','Banana','Banana'])"
   ]
  },
  {
   "cell_type": "code",
   "execution_count": 207,
   "metadata": {},
   "outputs": [
    {
     "name": "stderr",
     "output_type": "stream",
     "text": [
      "evalmachine.<anonymous>:30\n",
      "    fprice.forEach((k, v) => {\n",
      "           ^\n",
      "\n",
      "TypeError: fprice.forEach is not a function\n",
      "    at total_price (evalmachine.<anonymous>:30:12)\n",
      "    at evalmachine.<anonymous>:40:1\n",
      "    at evalmachine.<anonymous>:42:3\n",
      "\u001b[90m    at sigintHandlersWrap (vm.js:274:15)\u001b[39m\n",
      "\u001b[90m    at Script.runInThisContext (vm.js:118:14)\u001b[39m\n",
      "\u001b[90m    at Object.runInThisContext (vm.js:311:38)\u001b[39m\n",
      "    at Object.execute (C:\\Users\\root@uyhaa~\\AppData\\Roaming\\npm\\node_modules\\\u001b[4mtslab\u001b[24m\\dist\\executor.js:162:38)\n",
      "    at JupyterHandlerImpl.handleExecuteImpl (C:\\Users\\root@uyhaa~\\AppData\\Roaming\\npm\\node_modules\\\u001b[4mtslab\u001b[24m\\dist\\jupyter.js:219:38)\n",
      "    at C:\\Users\\root@uyhaa~\\AppData\\Roaming\\npm\\node_modules\\\u001b[4mtslab\u001b[24m\\dist\\jupyter.js:177:57\n",
      "    at async JupyterHandlerImpl.handleExecute (C:\\Users\\root@uyhaa~\\AppData\\Roaming\\npm\\node_modules\\\u001b[4mtslab\u001b[24m\\dist\\jupyter.js:177:21)\n"
     ]
    }
   ],
   "source": [
    "const counter_item = (items) => {\n",
    "    var counts = {};\n",
    "    items.forEach((x) => {\n",
    "        counts[x] = (counts[x] || 0) + 1\n",
    "    })\n",
    "    return counts;\n",
    "}\n",
    "// #Graded\n",
    "\n",
    "// # dua variable berikut jangan diubah\n",
    "const fruits = ['Apple','Avocado','Banana','Blackberries','Blueberries','Cherries','Date Fruit','Grapes','Guava','Jackfruit','Kiwifruit']\n",
    "const prices = [6,5,3,10,12,7,14,15,8,7,9]\n",
    "\n",
    "// # list buah\n",
    "const chart = ['Blueberries','Blueberries','Grapes','Apple','Apple','Apple','Blueberries','Guava','Jackfruit','Blueberries','Jackfruit']\n",
    "\n",
    "// # MULAI KODEMU DI SINI\n",
    "const fruit_price = {}\n",
    "\n",
    "const total_price = (dcounter,fprice) => {\n",
    "    const count = new Map(Object.entries(dcounter).sort())\n",
    "    var data = {};\n",
    "    for (const [k,v] of count ){\n",
    "        data[k] = v\n",
    "    }\n",
    "    fruits.forEach((key, i) => fruit_price[key] = prices[i]);\n",
    "    fprice.forEach((k,v) => {\n",
    "            if (k in Object.keys(data)){\n",
    "                console.log(Object.entries(fprice))\n",
    "    }\n",
    "    })\n",
    "    \n",
    "//     console.log(Object.keys(data))\n",
    "}\n",
    "//   # MULAI KODEMU DI SINI\n",
    " \n",
    "total_price(counter_item(chart),fruit_price)\n",
    "// console.log(fruit_price)"
   ]
  },
  {
   "cell_type": "code",
   "execution_count": null,
   "metadata": {},
   "outputs": [],
   "source": []
  }
 ],
 "metadata": {
  "kernelspec": {
   "display_name": "JavaScript",
   "language": "javascript",
   "name": "jslab"
  },
  "language_info": {
   "file_extension": ".js",
   "mimetype": "text/javascript",
   "name": "javascript",
   "version": ""
  }
 },
 "nbformat": 4,
 "nbformat_minor": 4
}
